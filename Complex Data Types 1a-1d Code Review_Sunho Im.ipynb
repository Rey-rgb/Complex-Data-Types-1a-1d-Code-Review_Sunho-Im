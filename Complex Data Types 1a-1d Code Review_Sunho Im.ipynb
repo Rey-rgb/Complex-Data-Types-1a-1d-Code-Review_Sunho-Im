{
 "cells": [
  {
   "cell_type": "code",
   "execution_count": 3,
   "id": "c8f5775b-ba60-43e2-a50e-9c1f10a16ff6",
   "metadata": {},
   "outputs": [
    {
     "data": {
      "text/plain": [
       "'\\n1.a Create a list of integers no fewer than 10 items from 0 to 9.\\n1.b Add 3 to the 5th indexed element\\n1.c Coerce all elements in the list to floats using list comprehension\\n1.d Coerce the list to a set\\n'"
      ]
     },
     "execution_count": 3,
     "metadata": {},
     "output_type": "execute_result"
    }
   ],
   "source": [
    "\"\"\"\n",
    "1.a Create a list of integers no fewer than 10 items from 0 to 9.\n",
    "1.b Add 3 to the 5th indexed element\n",
    "1.c Coerce all elements in the list to floats using list comprehension\n",
    "1.d Coerce the list to a set\n",
    "\"\"\""
   ]
  },
  {
   "cell_type": "code",
   "execution_count": 19,
   "id": "9822a863-8819-4c39-ad23-0e2ecf8096ff",
   "metadata": {},
   "outputs": [
    {
     "name": "stdout",
     "output_type": "stream",
     "text": [
      "Initial list of integers: [0, 1, 2, 3, 4, 5, 6, 7, 8, 9]\n"
     ]
    }
   ],
   "source": [
    "# 1.a Create a list of integers no fewer than 10 items from 0 to 9\n",
    "numbers = list(range(10))  \n",
    "# `range(10)` generates integers from 0 to 9 (10 excluded). \n",
    "# `list()` converts the range object to a list. \n",
    "\n",
    "print(\"Initial list of integers:\", numbers) "
   ]
  },
  {
   "cell_type": "code",
   "execution_count": 13,
   "id": "99fd8e56-9d3f-4ec6-a289-c5587d20e9f7",
   "metadata": {},
   "outputs": [
    {
     "name": "stdout",
     "output_type": "stream",
     "text": [
      "After adding 3 to the 5th indexed element: [0, 1, 2, 3, 4, 11, 6, 7, 8, 9]\n"
     ]
    }
   ],
   "source": [
    "# 1.b Add 3 to the 5th indexed element (6th element in the list)\n",
    "numbers[5] += 3  \n",
    "# The element at index 5 is 5 (since lists are 0-indexed).\n",
    "# This line adds 3 to that element, making it 8. \n",
    "\n",
    "print(\"After adding 3 to the 5th indexed element:\", numbers) "
   ]
  },
  {
   "cell_type": "code",
   "execution_count": 15,
   "id": "209c31e7-97ef-468d-8669-5e89113b1d06",
   "metadata": {},
   "outputs": [
    {
     "name": "stdout",
     "output_type": "stream",
     "text": [
      "List after coercing elements to floats: [0.0, 1.0, 2.0, 3.0, 4.0, 11.0, 6.0, 7.0, 8.0, 9.0]\n"
     ]
    }
   ],
   "source": [
    "# 1.c Coerce all elements in the list to floats using list comprehension\n",
    "numbers_float = [float(num) for num in numbers]  \n",
    "# This line uses **list comprehension** to iterate over each element in `numbers`.\n",
    "# List comprehension offers a shorter syntax when you want to create a new list based on the values of an existing list.\n",
    "# `float(num)` converts each integer to a float.\n",
    "\n",
    "print(\"List after coercing elements to floats:\", numbers_float)  "
   ]
  },
  {
   "cell_type": "code",
   "execution_count": 21,
   "id": "7c341f4d-48ff-41bd-8a66-2e3288d17a9d",
   "metadata": {},
   "outputs": [
    {
     "name": "stdout",
     "output_type": "stream",
     "text": [
      "Final set: {0.0, 1.0, 2.0, 3.0, 4.0, 6.0, 7.0, 8.0, 9.0, 11.0}\n"
     ]
    }
   ],
   "source": [
    "# 1.d Coerce the list to a set\n",
    "numbers_set = set(numbers_float)  \n",
    "# The `set()` function converts the list into a set, removing any duplicates.\n",
    "# In this case, there are no duplicates, so the set will contain all floats:\n",
    "\n",
    "print(\"Final set:\", numbers_set)  "
   ]
  }
 ],
 "metadata": {
  "kernelspec": {
   "display_name": "Python 3 (ipykernel)",
   "language": "python",
   "name": "python3"
  },
  "language_info": {
   "codemirror_mode": {
    "name": "ipython",
    "version": 3
   },
   "file_extension": ".py",
   "mimetype": "text/x-python",
   "name": "python",
   "nbconvert_exporter": "python",
   "pygments_lexer": "ipython3",
   "version": "3.12.4"
  }
 },
 "nbformat": 4,
 "nbformat_minor": 5
}
